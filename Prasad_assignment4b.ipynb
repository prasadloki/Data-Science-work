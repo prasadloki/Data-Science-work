{
 "cells": [
  {
   "cell_type": "markdown",
   "id": "cf9b03f2",
   "metadata": {},
   "source": [
    "# Chi-Square test"
   ]
  },
  {
   "cell_type": "markdown",
   "id": "15dd7673",
   "metadata": {},
   "source": [
    "Null Hypothesis (𝐻0):\n",
    "\n",
    "There is no association between the type of device purchased and the customer satisfaction level. In other words, the satisfaction level is independent of the device type.\n",
    "\n",
    "Alternative Hypothesis (𝐻𝐴)\n",
    "\n",
    "There is an association between the type of device purchased and the customer satisfaction level. In other words, the satisfaction level depends on the device type"
   ]
  },
  {
   "cell_type": "code",
   "execution_count": 2,
   "id": "825f4425",
   "metadata": {},
   "outputs": [],
   "source": [
    "import numpy as np\n",
    "import scipy.stats as stats"
   ]
  },
  {
   "cell_type": "code",
   "execution_count": 4,
   "id": "5155d8e6",
   "metadata": {},
   "outputs": [],
   "source": [
    "observed = np.array([\n",
    "    [50, 70],\n",
    "    [80, 100],\n",
    "    [60, 90],\n",
    "    [30, 50],\n",
    "    [20, 50]\n",
    "])"
   ]
  },
  {
   "cell_type": "code",
   "execution_count": 6,
   "id": "8f7ebb73",
   "metadata": {},
   "outputs": [
    {
     "data": {
      "text/plain": [
       "array([[ 50,  70],\n",
       "       [ 80, 100],\n",
       "       [ 60,  90],\n",
       "       [ 30,  50],\n",
       "       [ 20,  50]])"
      ]
     },
     "execution_count": 6,
     "metadata": {},
     "output_type": "execute_result"
    }
   ],
   "source": [
    "observed"
   ]
  },
  {
   "cell_type": "code",
   "execution_count": 7,
   "id": "a3fd9c7f",
   "metadata": {},
   "outputs": [],
   "source": [
    "total = np.array([120, 180, 150, 80, 70])"
   ]
  },
  {
   "cell_type": "code",
   "execution_count": 8,
   "id": "fb1cff0c",
   "metadata": {},
   "outputs": [],
   "source": [
    "total_devices= np.array([240, 360])"
   ]
  },
  {
   "cell_type": "code",
   "execution_count": 9,
   "id": "5df7271a",
   "metadata": {},
   "outputs": [],
   "source": [
    "grand_total = total.sum()"
   ]
  },
  {
   "cell_type": "code",
   "execution_count": 10,
   "id": "f003c577",
   "metadata": {},
   "outputs": [
    {
     "data": {
      "text/plain": [
       "600"
      ]
     },
     "execution_count": 10,
     "metadata": {},
     "output_type": "execute_result"
    }
   ],
   "source": [
    "grand_total "
   ]
  },
  {
   "cell_type": "code",
   "execution_count": 12,
   "id": "0a7bbd8d",
   "metadata": {},
   "outputs": [],
   "source": [
    "# Calculate expected frequencies\n",
    "expected = np.zeros_like(observed, dtype=float)\n",
    "for i in range(observed.shape[0]):\n",
    "    for j in range(observed.shape[1]):\n",
    "        expected[i, j] = (total[i] * total_devices[j]) / grand_total"
   ]
  },
  {
   "cell_type": "code",
   "execution_count": 13,
   "id": "3addc421",
   "metadata": {},
   "outputs": [],
   "source": [
    "# Compute Chi-Square Statistic\n",
    "chi2_statistic = ((observed - expected) ** 2 / expected).sum()"
   ]
  },
  {
   "cell_type": "code",
   "execution_count": 14,
   "id": "6946bd25",
   "metadata": {},
   "outputs": [
    {
     "data": {
      "text/plain": [
       "5.638227513227513"
      ]
     },
     "execution_count": 14,
     "metadata": {},
     "output_type": "execute_result"
    }
   ],
   "source": [
    "chi2_statistic"
   ]
  },
  {
   "cell_type": "code",
   "execution_count": 15,
   "id": "6d67058b",
   "metadata": {},
   "outputs": [
    {
     "data": {
      "text/plain": [
       "4"
      ]
     },
     "execution_count": 15,
     "metadata": {},
     "output_type": "execute_result"
    }
   ],
   "source": [
    "# Degrees of freedom\n",
    "df = (observed.shape[0] - 1) * (observed.shape[1] - 1)\n",
    "df"
   ]
  },
  {
   "cell_type": "markdown",
   "id": "2510acd3",
   "metadata": {},
   "source": [
    "# Critical Value"
   ]
  },
  {
   "cell_type": "code",
   "execution_count": 16,
   "id": "aea6fbf7",
   "metadata": {},
   "outputs": [],
   "source": [
    "# Determine critical value\n",
    "alpha = 0.05\n",
    "critical_value = stats.chi2.ppf(1 - alpha, df)"
   ]
  },
  {
   "cell_type": "code",
   "execution_count": 17,
   "id": "cf67f922",
   "metadata": {},
   "outputs": [
    {
     "data": {
      "text/plain": [
       "9.487729036781154"
      ]
     },
     "execution_count": 17,
     "metadata": {},
     "output_type": "execute_result"
    }
   ],
   "source": [
    "critical_value"
   ]
  },
  {
   "cell_type": "code",
   "execution_count": 18,
   "id": "e0324129",
   "metadata": {},
   "outputs": [
    {
     "name": "stdout",
     "output_type": "stream",
     "text": [
      "Chi-Square Statistic: 5.6382\n",
      "Degrees of Freedom: 4\n",
      "Critical Value at alpha=0.05: 9.4877\n",
      "P-Value: 0.2278\n"
     ]
    }
   ],
   "source": [
    "# Compare and conclude\n",
    "p_value = 1 - stats.chi2.cdf(chi2_statistic, df)\n",
    "\n",
    "print(f\"Chi-Square Statistic: {chi2_statistic:.4f}\")\n",
    "print(f\"Degrees of Freedom: {df}\")\n",
    "print(f\"Critical Value at alpha={alpha}: {critical_value:.4f}\")\n",
    "print(f\"P-Value: {p_value:.4f}\")"
   ]
  },
  {
   "cell_type": "markdown",
   "id": "cb4eaf1a",
   "metadata": {},
   "source": [
    "# Making a Decisison"
   ]
  },
  {
   "cell_type": "code",
   "execution_count": 19,
   "id": "ad460caa",
   "metadata": {},
   "outputs": [
    {
     "name": "stdout",
     "output_type": "stream",
     "text": [
      "Fail to reject the null hypothesis. There is no significant association between the type of device and customer satisfaction.\n"
     ]
    }
   ],
   "source": [
    "if chi2_statistic > critical_value:\n",
    "    print(\"Reject the null hypothesis. There is a significant association between the type of device and customer satisfaction.\")\n",
    "else:\n",
    "    print(\"Fail to reject the null hypothesis. There is no significant association between the type of device and customer satisfaction.\")"
   ]
  },
  {
   "cell_type": "markdown",
   "id": "57f38808",
   "metadata": {},
   "source": [
    "# Conclusion"
   ]
  },
  {
   "cell_type": "markdown",
   "id": "5fdc67fb",
   "metadata": {},
   "source": [
    "Fail to reject the null hypothesis. There is no significant association between the type of device purchased (Smart Thermostats vs. Smart Lights) and the customer satisfaction level. The differences in satisfaction levels observed between the two types of devices are not statistically significant, suggesting that customer satisfaction is independent of the type of device purchased."
   ]
  }
 ],
 "metadata": {
  "kernelspec": {
   "display_name": "Python 3 (ipykernel)",
   "language": "python",
   "name": "python3"
  },
  "language_info": {
   "codemirror_mode": {
    "name": "ipython",
    "version": 3
   },
   "file_extension": ".py",
   "mimetype": "text/x-python",
   "name": "python",
   "nbconvert_exporter": "python",
   "pygments_lexer": "ipython3",
   "version": "3.9.12"
  }
 },
 "nbformat": 4,
 "nbformat_minor": 5
}
