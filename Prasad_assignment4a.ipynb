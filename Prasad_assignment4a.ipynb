{
 "cells": [
  {
   "cell_type": "markdown",
   "id": "8b175cfd",
   "metadata": {},
   "source": [
    "# HYPOTHESIS TESTING"
   ]
  },
  {
   "cell_type": "markdown",
   "id": "640459f8",
   "metadata": {},
   "source": [
    "Hypotheses Statement:\n",
    "\n",
    "Null Hypothesis (H₀): The weekly operating cost follows the model   𝜇=1000+5𝑋\n",
    "    \n",
    "Alternative Hypothesis (H₁): The weekly operating cost is higher than the model  μ>1000+5X.\n",
    "    \n",
    "Test Statistic Calculation: Using the given data, we calculated the test statistic as: 𝑡=(𝑥ˉ−𝜇)(𝜎/𝑛)\n",
    ",we can get t=-38.0\n",
    "\n",
    "Decision: Since the test statistic (-38.0) is much lower than the critical value (1.645), we do not reject the null hypothesis.\n",
    "\n",
    "Conclusion: There is insufficient evidence to support the restaurant owners' claim that the weekly operating costs are higher than the model suggests. The observed cost seems to be consistent with the theoretical model. ​\n"
   ]
  },
  {
   "cell_type": "code",
   "execution_count": 10,
   "id": "0a1998b3",
   "metadata": {},
   "outputs": [],
   "source": [
    "import math\n",
    "import scipy.stats as stats"
   ]
  },
  {
   "cell_type": "code",
   "execution_count": 11,
   "id": "b6ece2de",
   "metadata": {},
   "outputs": [],
   "source": [
    "# Given data\n",
    "sample_mean = 3050\n",
    "theoretical_mean = 1000 + 5 * 600  # 4000\n",
    "sigma = 5 * 25  # Standard deviation of the weekly cost\n",
    "n = 25  # Sample size"
   ]
  },
  {
   "cell_type": "code",
   "execution_count": 4,
   "id": "25957a51",
   "metadata": {},
   "outputs": [],
   "source": [
    "# Calculate the test statistic\n",
    "standard_error = sigma / math.sqrt(n)\n",
    "z_value = (sample_mean - theoretical_mean) / standard_error"
   ]
  },
  {
   "cell_type": "code",
   "execution_count": 13,
   "id": "1e89fbaf",
   "metadata": {},
   "outputs": [
    {
     "data": {
      "text/plain": [
       "-38.0"
      ]
     },
     "execution_count": 13,
     "metadata": {},
     "output_type": "execute_result"
    }
   ],
   "source": [
    "z_value"
   ]
  },
  {
   "cell_type": "markdown",
   "id": "3e30c764",
   "metadata": {},
   "source": [
    "# Critical Value"
   ]
  },
  {
   "cell_type": "code",
   "execution_count": 14,
   "id": "33fe84d2",
   "metadata": {},
   "outputs": [
    {
     "name": "stdout",
     "output_type": "stream",
     "text": [
      "Sample Mean: 3050\n",
      "Theoretical Mean: 4000\n",
      "Standard Error: 25.0\n",
      "Calculated Z-value: -38.0\n",
      "Critical Z-value: 1.6448536269514722\n"
     ]
    }
   ],
   "source": [
    "# Critical value for one-tailed test at alpha = 0.05\n",
    "alpha = 0.05\n",
    "z_critical = stats.norm.ppf(1 - alpha)\n",
    "\n",
    "# Output results\n",
    "print(f\"Sample Mean: {sample_mean}\")\n",
    "print(f\"Theoretical Mean: {theoretical_mean}\")\n",
    "print(f\"Standard Error: {standard_error}\")\n",
    "print(f\"Calculated Z-value: {z_value}\")\n",
    "print(f\"Critical Z-value: {z_critical}\")"
   ]
  },
  {
   "cell_type": "markdown",
   "id": "a6fbfed6",
   "metadata": {},
   "source": [
    "# Making Decision"
   ]
  },
  {
   "cell_type": "code",
   "execution_count": 15,
   "id": "47cf733f",
   "metadata": {},
   "outputs": [
    {
     "name": "stdout",
     "output_type": "stream",
     "text": [
      "Reject the null hypothesis.\n"
     ]
    }
   ],
   "source": [
    "if z_value < z_critical:\n",
    "    print(\"Reject the null hypothesis.\")\n",
    "else:\n",
    "    print(\"Do not reject the null hypothesis.\")\n"
   ]
  },
  {
   "cell_type": "markdown",
   "id": "290a2583",
   "metadata": {},
   "source": [
    "# Conclusion"
   ]
  },
  {
   "cell_type": "code",
   "execution_count": 16,
   "id": "1e23c17b",
   "metadata": {},
   "outputs": [
    {
     "name": "stdout",
     "output_type": "stream",
     "text": [
      "Based on the decision, there is no strong evidence to support the claim that the weekly operating costs are higher than the model suggests.\n"
     ]
    }
   ],
   "source": [
    "print(\"Based on the decision, there is no strong evidence to support the claim that the weekly operating costs are higher than the model suggests.\")"
   ]
  }
 ],
 "metadata": {
  "kernelspec": {
   "display_name": "Python 3 (ipykernel)",
   "language": "python",
   "name": "python3"
  },
  "language_info": {
   "codemirror_mode": {
    "name": "ipython",
    "version": 3
   },
   "file_extension": ".py",
   "mimetype": "text/x-python",
   "name": "python",
   "nbconvert_exporter": "python",
   "pygments_lexer": "ipython3",
   "version": "3.9.12"
  }
 },
 "nbformat": 4,
 "nbformat_minor": 5
}
