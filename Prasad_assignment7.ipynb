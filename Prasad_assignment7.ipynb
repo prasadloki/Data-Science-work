{
 "cells": [
  {
   "cell_type": "code",
   "execution_count": 6,
   "id": "bb560d6f-8863-4b8a-ac56-532c9d5e0be9",
   "metadata": {},
   "outputs": [],
   "source": [
    "# Import necessary libraries\n",
    "import numpy as np\n",
    "import pandas as pd\n",
    "import matplotlib.pyplot as plt\n",
    "import seaborn as sns\n",
    "import warnings\n",
    "from sklearn import preprocessing\n",
    "from sklearn.preprocessing import LabelEncoder  # Import LabelEncoder\n",
    "from sklearn.linear_model import LogisticRegression\n",
    "from sklearn.model_selection import train_test_split\n",
    "from sklearn.metrics import accuracy_score, classification_report, confusion_matrix, roc_curve, roc_auc_score\n",
    "import os\n",
    "import subprocess\n"
   ]
  },
  {
   "cell_type": "code",
   "execution_count": null,
   "id": "c79d6785-aa79-447d-9bf2-d621d458bca9",
   "metadata": {},
   "outputs": [],
   "source": [
    "\n",
    "# Load Titanic datasets\n",
    "titanic_train = pd.read_csv(r\"/Users/prasadbodduboina/Downloads/DS/Logistic Regression/Titanic_train.csv\")\n",
    "titanic_test = pd.read_csv(r\"/Users/prasadbodduboina/Downloads/DS/Logistic Regression/Titanic_test.csv\")\n"
   ]
  },
  {
   "cell_type": "code",
   "execution_count": 8,
   "id": "4a187aaf-6fbd-4017-a3bb-985d558f2cef",
   "metadata": {},
   "outputs": [
    {
     "name": "stdout",
     "output_type": "stream",
     "text": [
      "   PassengerId  Survived  Pclass  \\\n",
      "0            1         0       3   \n",
      "1            2         1       1   \n",
      "2            3         1       3   \n",
      "3            4         1       1   \n",
      "4            5         0       3   \n",
      "\n",
      "                                                Name     Sex   Age  SibSp  \\\n",
      "0                            Braund, Mr. Owen Harris    male  22.0      1   \n",
      "1  Cumings, Mrs. John Bradley (Florence Briggs Th...  female  38.0      1   \n",
      "2                             Heikkinen, Miss. Laina  female  26.0      0   \n",
      "3       Futrelle, Mrs. Jacques Heath (Lily May Peel)  female  35.0      1   \n",
      "4                           Allen, Mr. William Henry    male  35.0      0   \n",
      "\n",
      "   Parch            Ticket     Fare Cabin Embarked  \n",
      "0      0         A/5 21171   7.2500   NaN        S  \n",
      "1      0          PC 17599  71.2833   C85        C  \n",
      "2      0  STON/O2. 3101282   7.9250   NaN        S  \n",
      "3      0            113803  53.1000  C123        S  \n",
      "4      0            373450   8.0500   NaN        S  \n"
     ]
    }
   ],
   "source": [
    "# Data Overview\n",
    "print(titanic_train.head())"
   ]
  },
  {
   "cell_type": "code",
   "execution_count": 9,
   "id": "8081d3d0-72f6-4f76-b265-524890f815bc",
   "metadata": {},
   "outputs": [
    {
     "name": "stdout",
     "output_type": "stream",
     "text": [
      "PassengerId      int64\n",
      "Survived         int64\n",
      "Pclass           int64\n",
      "Name            object\n",
      "Sex             object\n",
      "Age            float64\n",
      "SibSp            int64\n",
      "Parch            int64\n",
      "Ticket          object\n",
      "Fare           float64\n",
      "Cabin           object\n",
      "Embarked        object\n",
      "dtype: object\n"
     ]
    }
   ],
   "source": [
    "print(titanic_train.dtypes)"
   ]
  },
  {
   "cell_type": "code",
   "execution_count": 10,
   "id": "a131a965-c32a-4320-941b-3b53796654b0",
   "metadata": {},
   "outputs": [
    {
     "name": "stdout",
     "output_type": "stream",
     "text": [
      "PassengerId      0\n",
      "Survived         0\n",
      "Pclass           0\n",
      "Name             0\n",
      "Sex              0\n",
      "Age            177\n",
      "SibSp            0\n",
      "Parch            0\n",
      "Ticket           0\n",
      "Fare             0\n",
      "Cabin          687\n",
      "Embarked         2\n",
      "dtype: int64\n"
     ]
    }
   ],
   "source": [
    "print(titanic_train.isnull().sum())"
   ]
  },
  {
   "cell_type": "code",
   "execution_count": 11,
   "id": "9c09d6ee-fb2c-4174-be2b-18e0949e3691",
   "metadata": {},
   "outputs": [
    {
     "name": "stdout",
     "output_type": "stream",
     "text": [
      "       PassengerId    Survived      Pclass         Age       SibSp  \\\n",
      "count   891.000000  891.000000  891.000000  714.000000  891.000000   \n",
      "mean    446.000000    0.383838    2.308642   29.699118    0.523008   \n",
      "std     257.353842    0.486592    0.836071   14.526497    1.102743   \n",
      "min       1.000000    0.000000    1.000000    0.420000    0.000000   \n",
      "25%     223.500000    0.000000    2.000000   20.125000    0.000000   \n",
      "50%     446.000000    0.000000    3.000000   28.000000    0.000000   \n",
      "75%     668.500000    1.000000    3.000000   38.000000    1.000000   \n",
      "max     891.000000    1.000000    3.000000   80.000000    8.000000   \n",
      "\n",
      "            Parch        Fare  \n",
      "count  891.000000  891.000000  \n",
      "mean     0.381594   32.204208  \n",
      "std      0.806057   49.693429  \n",
      "min      0.000000    0.000000  \n",
      "25%      0.000000    7.910400  \n",
      "50%      0.000000   14.454200  \n",
      "75%      0.000000   31.000000  \n",
      "max      6.000000  512.329200  \n"
     ]
    }
   ],
   "source": [
    "print(titanic_train.describe())"
   ]
  },
  {
   "cell_type": "code",
   "execution_count": 12,
   "id": "a4da6a6f-fb40-4853-89aa-5daf9ed476b4",
   "metadata": {},
   "outputs": [],
   "source": [
    "\n",
    "# Drop unnecessary columns\n",
    "titanic_train = titanic_train.drop([\"Name\", \"Ticket\", \"Cabin\"], axis=1)"
   ]
  },
  {
   "cell_type": "code",
   "execution_count": 13,
   "id": "95b2648e-abf0-423b-9f16-7e1972b9dffc",
   "metadata": {},
   "outputs": [],
   "source": [
    "# Data Preprocessing\n",
    "warnings.filterwarnings(\"ignore\")"
   ]
  },
  {
   "cell_type": "code",
   "execution_count": 14,
   "id": "1eb3252c-bd0c-4e02-a3ad-a6f44d3b5a28",
   "metadata": {},
   "outputs": [],
   "source": [
    "# Fill missing values\n",
    "titanic_train[\"Embarked\"].fillna(titanic_train[\"Embarked\"].mode()[0], inplace=True)\n",
    "titanic_train[\"Age\"].fillna(titanic_train[\"Age\"].mean(), inplace=True)"
   ]
  },
  {
   "cell_type": "code",
   "execution_count": 15,
   "id": "a54d83b7-1b4f-4a48-8702-3ecce64be8b5",
   "metadata": {},
   "outputs": [],
   "source": [
    "# Outlier detection and removal using IQR method for Age\n",
    "Q1 = titanic_train[\"Age\"].quantile(0.25)\n",
    "Q3 = titanic_train[\"Age\"].quantile(0.75)\n",
    "IQR = Q3 - Q1\n",
    "lower_bound = Q1 - 1.5 * IQR\n",
    "upper_bound = Q3 + 1.5 * IQR\n",
    "titanic_train = titanic_train[(titanic_train[\"Age\"] >= lower_bound) & (titanic_train[\"Age\"] <= upper_bound)]"
   ]
  },
  {
   "cell_type": "code",
   "execution_count": 16,
   "id": "b9edf701-4947-4777-a557-b5a7551e53e4",
   "metadata": {},
   "outputs": [
    {
     "data": {
      "image/png": "[encoded data removed]",
      "text/plain": [
       "<Figure size 640x480 with 1 Axes>"
      ]
     },
     "metadata": {},
     "output_type": "display_data"
    }
   ],
   "source": [
    "# Boxplot for Age\n",
    "plt.boxplot(titanic_train[\"Age\"])\n",
    "plt.title(\"Boxplot of Age\")\n",
    "plt.show()"
   ]
  },
  {
   "cell_type": "code",
   "execution_count": 17,
   "id": "8bb634be-d286-4081-bb97-59eac116c338",
   "metadata": {},
   "outputs": [],
   "source": [
    "# Outlier detection and removal using IQR method for Fare\n",
    "Q1 = titanic_train[\"Fare\"].quantile(0.25)\n",
    "Q3 = titanic_train[\"Fare\"].quantile(0.75)\n",
    "IQR = Q3 - Q1\n",
    "lower_bound = Q1 - 1.5 * IQR\n",
    "upper_bound = Q3 + 1.5 * IQR\n",
    "titanic_train = titanic_train[(titanic_train[\"Fare\"] >= lower_bound) & (titanic_train[\"Fare\"] <= upper_bound)]\n"
   ]
  },
  {
   "cell_type": "code",
   "execution_count": 18,
   "id": "23bf1e15-1355-47b8-acab-d6ce8aa1e8c2",
   "metadata": {},
   "outputs": [
    {
     "data": {
      "image/png": "[encoded data removed]",
      "text/plain": [
       "<Figure size 640x480 with 1 Axes>"
      ]
     },
     "metadata": {},
     "output_type": "display_data"
    }
   ],
   "source": [
    "# Boxplot for Fare\n",
    "plt.boxplot(titanic_train[\"Fare\"])\n",
    "plt.title(\"Boxplot of Fare\")\n",
    "plt.show()\n"
   ]
  },
  {
   "cell_type": "code",
   "execution_count": 19,
   "id": "ed3cea33-50b7-4ec6-9fad-0903c601a7de",
   "metadata": {},
   "outputs": [],
   "source": [
    "# Label Encoding\n",
    "label_encoder = LabelEncoder()\n",
    "titanic_train[\"Pclass\"] = label_encoder.fit_transform(titanic_train[\"Pclass\"])"
   ]
  },
  {
   "cell_type": "code",
   "execution_count": 20,
   "id": "fe90f538-9a39-4cb5-a71c-7c77d6c6a05f",
   "metadata": {},
   "outputs": [],
   "source": [
    "# Initialize label_encoders for Sex and Embarked\n",
    "label_encoder_sex = LabelEncoder()\n",
    "titanic_train[\"Sex\"] = label_encoder_sex.fit_transform(titanic_train[\"Sex\"])"
   ]
  },
  {
   "cell_type": "code",
   "execution_count": 21,
   "id": "c7317c51-dc46-4056-8108-b0e13abaf1c7",
   "metadata": {},
   "outputs": [],
   "source": [
    "label_encoder_embarked = LabelEncoder()\n",
    "titanic_train[\"Embarked\"] = label_encoder_embarked.fit_transform(titanic_train[\"Embarked\"])"
   ]
  },
  {
   "cell_type": "code",
   "execution_count": 22,
   "id": "2ccdc011-d6b3-470f-bba6-8e67c7ba0450",
   "metadata": {},
   "outputs": [],
   "source": [
    "# Preprocessing Test Set\n",
    "titanic_test = titanic_test.drop([\"Name\", \"Ticket\", \"Cabin\"], axis=1)\n",
    "titanic_test[\"Pclass\"] = label_encoder.fit_transform(titanic_test[\"Pclass\"])\n",
    "titanic_test[\"Sex\"] = label_encoder_sex.transform(titanic_test[\"Sex\"])\n",
    "titanic_test[\"Embarked\"] = label_encoder_embarked.transform(titanic_test[\"Embarked\"])\n",
    "titanic_test[\"Age\"].fillna(titanic_test[\"Age\"].mean(), inplace=True)\n",
    "titanic_test[\"Fare\"].fillna(titanic_test[\"Fare\"].mean(), inplace=True)\n"
   ]
  },
  {
   "cell_type": "code",
   "execution_count": 23,
   "id": "91f63154-c98e-4d06-b016-a4aa8581e3c3",
   "metadata": {},
   "outputs": [
    {
     "data": {
      "image/png": "[encoded data removed]",
      "text/plain": [
       "<Figure size 640x480 with 1 Axes>"
      ]
     },
     "metadata": {},
     "output_type": "display_data"
    }
   ],
   "source": [
    "# Data Visualization\n",
    "titanic_train[\"Survived\"].value_counts().plot(kind=\"bar\", title=\"Survival Count\")\n",
    "plt.show()"
   ]
  },
  {
   "cell_type": "code",
   "execution_count": 24,
   "id": "b1cf49b6-e4b2-40c0-8e1a-3e05dfe77f15",
   "metadata": {},
   "outputs": [],
   "source": [
    "# Logistic Regression Model\n",
    "X = titanic_train[[\"Pclass\", \"Sex\", \"Age\", \"SibSp\", \"Parch\", \"Fare\", \"Embarked\"]]\n",
    "y = titanic_train[\"Survived\"]\n"
   ]
  },
  {
   "cell_type": "code",
   "execution_count": 25,
   "id": "e1509dff-09bf-41ee-a720-2f78c59b968f",
   "metadata": {},
   "outputs": [],
   "source": [
    "# Split data into train and test sets\n",
    "x_train, x_test, y_train, y_test = train_test_split(X, y, test_size=0.2, random_state=7)"
   ]
  },
  {
   "cell_type": "code",
   "execution_count": 26,
   "id": "3fef5171-54dd-44bb-967a-299622b7d33d",
   "metadata": {},
   "outputs": [
    {
     "data": {
      "text/plain": [
       "LogisticRegression(max_iter=1000)"
      ]
     },
     "execution_count": 26,
     "metadata": {},
     "output_type": "execute_result"
    }
   ],
   "source": [
    "# Fit model on training data\n",
    "model = LogisticRegression(max_iter=1000)\n",
    "model.fit(x_train, y_train)\n"
   ]
  },
  {
   "cell_type": "code",
   "execution_count": 27,
   "id": "79900614-0525-4e1f-b9b2-c1848b4512d6",
   "metadata": {},
   "outputs": [
    {
     "name": "stdout",
     "output_type": "stream",
     "text": [
      "Accuracy: 75.00%\n",
      "              precision    recall  f1-score   support\n",
      "\n",
      "           0       0.81      0.83      0.82        98\n",
      "           1       0.61      0.59      0.60        46\n",
      "\n",
      "    accuracy                           0.75       144\n",
      "   macro avg       0.71      0.71      0.71       144\n",
      "weighted avg       0.75      0.75      0.75       144\n",
      "\n"
     ]
    }
   ],
   "source": [
    "# Predictions and evaluation\n",
    "y_pred = model.predict(x_test)\n",
    "accuracy = accuracy_score(y_test, y_pred)\n",
    "print(\"Accuracy: %.2f%%\" % (accuracy * 100.0))\n",
    "print(classification_report(y_test, y_pred))"
   ]
  },
  {
   "cell_type": "code",
   "execution_count": 28,
   "id": "76c0966d-0033-46df-a27a-c52c0ee21137",
   "metadata": {},
   "outputs": [
    {
     "name": "stdout",
     "output_type": "stream",
     "text": [
      "Confusion Matrix:\n",
      "[[81 17]\n",
      " [19 27]]\n"
     ]
    }
   ],
   "source": [
    "# Confusion Matrix\n",
    "conf_matrix = confusion_matrix(y_test, y_pred)\n",
    "print(\"Confusion Matrix:\")\n",
    "print(conf_matrix)"
   ]
  },
  {
   "cell_type": "code",
   "execution_count": 29,
   "id": "942b3156-04f9-469e-b565-ce47efbd95c4",
   "metadata": {},
   "outputs": [],
   "source": [
    "# ROC Curve\n",
    "fpr, tpr, thresholds = roc_curve(y_test, model.predict_proba(x_test)[:, 1])\n",
    "auc = roc_auc_score(y_test, model.predict_proba(x_test)[:, 1])"
   ]
  },
  {
   "cell_type": "code",
   "execution_count": 30,
   "id": "d9ca529e-f47a-4684-8f84-db5c99955e6c",
   "metadata": {},
   "outputs": [
    {
     "data": {
      "image/png": "[encoded data removed]",
      "text/plain": [
       "<Figure size 640x480 with 1 Axes>"
      ]
     },
     "metadata": {},
     "output_type": "display_data"
    }
   ],
   "source": [
    "plt.plot(fpr, tpr, color='red', label='Logit model (AUC = %0.2f)' % auc)\n",
    "plt.plot([0, 1], [0, 1], 'k--')\n",
    "plt.xlabel('False Positive Rate or [1 - True Negative Rate]')\n",
    "plt.ylabel('True Positive Rate')\n",
    "plt.legend(loc='lower right')\n",
    "plt.title('ROC Curve')\n",
    "plt.show()"
   ]
  },
  {
   "cell_type": "code",
   "execution_count": 31,
   "id": "42c1f697-9d1b-4672-9bea-7da80c3541d7",
   "metadata": {},
   "outputs": [
    {
     "name": "stdout",
     "output_type": "stream",
     "text": [
      "Coefficients: [-0.87965513 -2.50436114 -0.04444982 -0.4310034  -0.0772237   0.02607694\n",
      " -0.30668011]\n",
      "Intercept: 3.6354517030260114\n"
     ]
    }
   ],
   "source": [
    "# Interpretation\n",
    "coefficients = model.coef_[0]\n",
    "intercept = model.intercept_[0]\n",
    "print(\"Coefficients:\", coefficients)\n",
    "print(\"Intercept:\", intercept)"
   ]
  },
  {
   "cell_type": "code",
   "execution_count": 32,
   "id": "0f77bf79-18e3-4744-846b-92bf05d9baae",
   "metadata": {},
   "outputs": [
    {
     "name": "stdout",
     "output_type": "stream",
     "text": [
      "Optimization terminated successfully.\n",
      "         Current function value: 0.443465\n",
      "         Iterations 6\n",
      "                           Logit Regression Results                           \n",
      "==============================================================================\n",
      "Dep. Variable:               Survived   No. Observations:                  574\n",
      "Model:                          Logit   Df Residuals:                      566\n",
      "Method:                           MLE   Df Model:                            7\n",
      "Date:                Fri, 04 Oct 2024   Pseudo R-squ.:                  0.3067\n",
      "Time:                        08:10:13   Log-Likelihood:                -254.55\n",
      "converged:                       True   LL-Null:                       -367.18\n",
      "Covariance Type:            nonrobust   LLR p-value:                 5.038e-45\n",
      "==============================================================================\n",
      "                 coef    std err          z      P>|z|      [0.025      0.975]\n",
      "------------------------------------------------------------------------------\n",
      "const          3.8850      0.709      5.477      0.000       2.495       5.275\n",
      "Pclass        -0.9349      0.213     -4.387      0.000      -1.353      -0.517\n",
      "Sex           -2.6663      0.249    -10.698      0.000      -3.155      -2.178\n",
      "Age           -0.0460      0.012     -3.689      0.000      -0.070      -0.022\n",
      "SibSp         -0.4545      0.169     -2.686      0.007      -0.786      -0.123\n",
      "Parch         -0.0913      0.156     -0.586      0.558      -0.397       0.214\n",
      "Fare           0.0255      0.013      2.014      0.044       0.001       0.050\n",
      "Embarked      -0.3135      0.154     -2.032      0.042      -0.616      -0.011\n",
      "==============================================================================\n"
     ]
    }
   ],
   "source": [
    "import statsmodels.api as sm\n",
    "\n",
    "# Add a constant to the feature matrix for the intercept term\n",
    "X_train_with_intercept = sm.add_constant(x_train)\n",
    "\n",
    "# Fit the model using statsmodels\n",
    "logit_model = sm.Logit(y_train, X_train_with_intercept)\n",
    "result = logit_model.fit()\n",
    "print(result.summary())"
   ]
  },
  {
   "cell_type": "code",
   "execution_count": 33,
   "id": "7b43df94-0854-4331-a3e2-f5594e23c21a",
   "metadata": {},
   "outputs": [],
   "source": [
    "\n",
    "# Save the Streamlit app to a Python file\n",
    "streamlit_code = \"\"\"\n",
    "import pandas as pd\n",
    "import numpy as np\n",
    "import streamlit as st\n",
    "from sklearn.linear_model import LogisticRegression\n",
    "from sklearn.preprocessing import LabelEncoder\n",
    "\n",
    "# Load the Titanic dataset\n",
    "titanic_train = pd.read_csv(r\"E:\\\\hyderabad\\\\Data Science\\\\excler's\\\\Assinments\\\\Logistic Regression\\\\Titanic_train.csv\")\n",
    "\n",
    "# Preprocess the data (same as in the notebook)\n",
    "titanic_train[\"Embarked\"].fillna(titanic_train[\"Embarked\"].mode()[0], inplace=True)\n",
    "titanic_train[\"Age\"].fillna(titanic_train[\"Age\"].mean(), inplace=True)\n",
    "\n",
    "# Initialize LabelEncoders\n",
    "label_encoder_sex = LabelEncoder()\n",
    "titanic_train[\"Sex\"] = label_encoder_sex.fit_transform(titanic_train[\"Sex\"])\n",
    "\n",
    "label_encoder_embarked = LabelEncoder()\n",
    "titanic_train[\"Embarked\"] = label_encoder_embarked.fit_transform(titanic_train[\"Embarked\"])\n",
    "\n",
    "# Prepare input data for prediction\n",
    "X = titanic_train[[\"Pclass\", \"Sex\", \"Age\", \"SibSp\", \"Parch\", \"Fare\", \"Embarked\"]]\n",
    "y = titanic_train[\"Survived\"]\n",
    "\n",
    "# Train the model\n",
    "model = LogisticRegression(max_iter=1000)\n",
    "model.fit(X, y)\n",
    "\n",
    "# Streamlit app\n",
    "st.title('Titanic Survival Prediction App')\n",
    "pclass = st.selectbox('Passenger Class', [1, 2, 3])\n",
    "sex = st.selectbox('Sex', ['Male', 'Female'])\n",
    "age = st.slider('Age', 1, 100)\n",
    "sibsp = st.slider('Number of Siblings/Spouses Aboard', 0, 8)\n",
    "parch = st.slider('Number of Parents/Children Aboard', 0, 6)\n",
    "fare = st.slider('Fare Paid', 0, 500)\n",
    "embarked = st.selectbox('Port of Embarkation', ['S', 'C', 'Q'])\n",
    "\n",
    "# Convert input to the encoded format for the model\n",
    "input_data = [\n",
    "    pclass,  \n",
    "    label_encoder_sex.transform([sex.lower()])[0],  \n",
    "    age, \n",
    "    sibsp, \n",
    "    parch, \n",
    "    fare, \n",
    "    label_encoder_embarked.transform([embarked])[0]\n",
    "]\n",
    "\n",
    "if st.button('Predict Survival'):\n",
    "    prediction = model.predict([input_data])[0]\n",
    "    probability = model.predict_proba([input_data])[0][1]\n",
    "    st.write(f\"Prediction: {'Survived' if prediction == 1 else 'Did Not Survive'}\")\n",
    "    st.write(f\"Probability of Survival: {probability:.2f}\")\n",
    "\"\"\"\n"
   ]
  },
  {
   "cell_type": "code",
   "execution_count": 34,
   "id": "7e96c552-d6ff-4424-86cc-833e533577a4",
   "metadata": {},
   "outputs": [],
   "source": [
    "# Save the Streamlit app code to a Python file\n",
    "with open(\"titanic_app.py\", \"w\") as f:\n",
    "    f.write(streamlit_code)\n"
   ]
  },
  {
   "cell_type": "code",
   "execution_count": 35,
   "id": "ae3e6a9c-d3a0-4acf-ae30-1b630088df72",
   "metadata": {},
   "outputs": [],
   "source": [
    "# Step 6: Run the Streamlit app\n",
    "def run_streamlit():\n",
    "    subprocess.Popen([\"streamlit\", \"run\", \"titanic_app.py\"])\n",
    "\n",
    "run_streamlit()"
   ]
  },
  {
   "cell_type": "code",
   "execution_count": 36,
   "id": "4fffbf01-e395-4cde-b63a-a0df37cf4381",
   "metadata": {},
   "outputs": [
    {
     "name": "stdout",
     "output_type": "stream",
     "text": [
      "Streamlit app is running. Open the link below in your web browser:\n",
      "http://localhost:8501\n"
     ]
    }
   ],
   "source": [
    "print(\"Streamlit app is running. Open the link below in your web browser:\")\n",
    "print(\"http://localhost:8501\")"
   ]
  },
  {
   "cell_type": "markdown",
   "id": "6a8bf450-a9cd-4e83-841f-596345645659",
   "metadata": {},
   "source": []
  },
  {
   "cell_type": "markdown",
   "id": "ee096c46-6a4a-4395-91fd-6563bd1eae74",
   "metadata": {},
   "source": [
    "##### 1. Difference between Precision and Recall:\n",
    "Precision: Measures the accuracy of positive predictions. It shows how many predicted positives are actually positive.\n",
    " \n",
    "Recall: Measures how well the model identifies all actual positives. It shows how many actual positives were correctly predicted.\n",
    "\n",
    " \n",
    "Difference: Precision focuses on minimizing false positives, while recall focuses on minimizing false negatives.\n",
    "##### 2. What is Cross-Validation and its Importance in Binary Classification?\n",
    "Cross-Validation: A technique where the dataset is split into k folds. The model is trained on k-1 folds and tested on the remaining fold. This process is repeated k times.\n",
    "\n",
    "Importance:\n",
    "\n",
    "Prevents overfitting by testing on different subsets.\n",
    "Provides better model evaluation across various data splits.\n",
    "Helps in hyperparameter tuning by offering reliable performance estimates."
   ]
  },
  {
   "cell_type": "code",
   "execution_count": null,
   "id": "e941012f-5822-44f3-a071-9d772e2ac10b",
   "metadata": {},
   "outputs": [],
   "source": []
  }
 ],
 "metadata": {
  "kernelspec": {
   "display_name": "Python 3 (ipykernel)",
   "language": "python",
   "name": "python3"
  },
  "language_info": {
   "codemirror_mode": {
    "name": "ipython",
    "version": 3
   },
   "file_extension": ".py",
   "mimetype": "text/x-python",
   "name": "python",
   "nbconvert_exporter": "python",
   "pygments_lexer": "ipython3",
   "version": "3.9.12"
  }
 },
 "nbformat": 4,
 "nbformat_minor": 5
}
